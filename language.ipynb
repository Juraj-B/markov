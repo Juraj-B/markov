{
 "cells": [
  {
   "cell_type": "code",
   "execution_count": 327,
   "id": "e30c044b-d739-48d0-a70d-6fd44869dea4",
   "metadata": {},
   "outputs": [],
   "source": [
    "import numpy as np\n",
    "import json\n",
    "import pprint as p\n",
    "from random import choices\n",
    "\n",
    "class MarkovChain:\n",
    "    def __init__(self, text = \"\"):\n",
    "        self.text = text\n",
    "        self.words = self.text.split(\" \")\n",
    "        self.chain = {}\n",
    "    def from_file(self, filename):\n",
    "        with open(filename, \"r\") as f:\n",
    "            self.text = f.read()\n",
    "        self.words = self.text.split(\" \")\n",
    "\n",
    "    def generate_chain(self):\n",
    "        for word in self.words:\n",
    "            if word not in self.chain:\n",
    "                self.chain[word] = {}\n",
    "        for i in range(len(self.words) - 1):\n",
    "            current_word = self.words[i]\n",
    "            next_word = self.words[i+1]\n",
    "            if next_word in self.chain[current_word]:\n",
    "                self.chain[current_word][next_word] += 1\n",
    "            else:\n",
    "                self.chain[current_word][next_word] = 1\n",
    "                \n",
    "        for head_word in self.chain.keys():\n",
    "            for word in self.chain[head_word]:\n",
    "                self.chain[head_word][word] = self.chain[head_word][word] / 1 #len(self.words)\n",
    "    def json(self):\n",
    "        return(json.dumps(self.chain, indent = 2))\n",
    "    ## Todo: save to json, load from json\n",
    "    def generate_text(self, length, start_word = None):\n",
    "        text = \"\"\n",
    "        if start_word:\n",
    "            current_word = start_word\n",
    "        else:\n",
    "            current_word = choices(list(self.chain.keys()))[0]\n",
    "        for i in range(length):\n",
    "            text += current_word + \" \"\n",
    "            possible_words = list(self.chain[current_word].keys())\n",
    "            weight = list(self.chain[current_word].values())\n",
    "            if possible_words == []:\n",
    "                break\n",
    "                #possible_words = list(self.chain.keys())\n",
    "                #weight = [1] * len(possible_words)\n",
    "            current_word = choices(possible_words, weight)[0]\n",
    "        print(text)\n",
    "            \n",
    "\n",
    "        return(current_word)"
   ]
  },
  {
   "cell_type": "code",
   "execution_count": 332,
   "id": "dfa5af93-7328-493e-acc8-e1dc070b1e00",
   "metadata": {},
   "outputs": [
    {
     "name": "stdout",
     "output_type": "stream",
     "text": [
      "24:21 Except these are the same\n",
      "matter.\n",
      "\n",
      "10:11 And thou shalt love thy\n",
      "neighbour, and forgive, and Hoshea\n",
      "became his sons, but unto the LORD, all that they began to fasten it was a mixture into the sons of his nostrils, and had formed.\n",
      "\n",
      "2:9 And Adam gave the posterity approve things are therein day shall help him.\n",
      "\n",
      "32:4 So Solomon his substance, and how long preaching, which was necessary\n",
      "that the children of young\n",
      "pigeons.\n",
      "\n",
      "1:15 And they are without? for ever and truth from Judah.\n",
      "\n",
      "13:13 And he would strengthen the temple, ye eat the LORD, even when he\n",
      "bendeth his leprosy.\n",
      "\n",
      "5:7 And all stand up early in the \n",
      "kings\n"
     ]
    }
   ],
   "source": [
    "markov = MarkovChain(\"\")\n",
    "markov.from_file(\"bible.txt\")\n",
    "markov.generate_chain()\n",
    "print(markov.generate_text(100))"
   ]
  },
  {
   "cell_type": "code",
   "execution_count": null,
   "id": "c90cad9a-58af-492a-872e-6e75bdcd9eff",
   "metadata": {},
   "outputs": [],
   "source": []
  }
 ],
 "metadata": {
  "kernelspec": {
   "display_name": "Python 3",
   "language": "python",
   "name": "python3"
  },
  "language_info": {
   "codemirror_mode": {
    "name": "ipython",
    "version": 3
   },
   "file_extension": ".py",
   "mimetype": "text/x-python",
   "name": "python",
   "nbconvert_exporter": "python",
   "pygments_lexer": "ipython3",
   "version": "3.8.8"
  }
 },
 "nbformat": 4,
 "nbformat_minor": 5
}
