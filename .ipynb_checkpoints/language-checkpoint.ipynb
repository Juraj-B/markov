{
 "cells": [
  {
   "cell_type": "code",
   "execution_count": 1,
   "id": "e30c044b-d739-48d0-a70d-6fd44869dea4",
   "metadata": {},
   "outputs": [],
   "source": [
    "import numpy as np\n",
    "import json\n",
    "import pprint as p\n",
    "from random import choices\n",
    "\n",
    "class MarkovChain:\n",
    "    def __init__(self, text = \"\"):\n",
    "        self.text = text\n",
    "        self.words = self.text.split(\" \")\n",
    "        self.chain = {}\n",
    "    def from_file(self, filename):\n",
    "        with open(filename, \"r\") as f:\n",
    "            self.text = f.read()\n",
    "        self.words = self.text.split(\" \")\n",
    "\n",
    "    def generate_chain(self):\n",
    "        for word in self.words:\n",
    "            if word not in self.chain:\n",
    "                self.chain[word] = {}\n",
    "        for i in range(len(self.words) - 1):\n",
    "            current_word = self.words[i]\n",
    "            next_word = self.words[i+1]\n",
    "            if next_word in self.chain[current_word]:\n",
    "                self.chain[current_word][next_word] += 1\n",
    "            else:\n",
    "                self.chain[current_word][next_word] = 1\n",
    "                \n",
    "        for head_word in self.chain.keys():\n",
    "            for word in self.chain[head_word]:\n",
    "                self.chain[head_word][word] = self.chain[head_word][word] / 1 #len(self.words)\n",
    "    def json(self):\n",
    "        return(json.dumps(self.chain, indent = 2))\n",
    "    ## Todo: save to json, load from json\n",
    "    def generate_text(self, length, start_word = None):\n",
    "        text = \"\"\n",
    "        if start_word:\n",
    "            current_word = start_word\n",
    "        else:\n",
    "            current_word = choices(list(self.chain.keys()))[0]\n",
    "        for i in range(length):\n",
    "            text += current_word + \" \"\n",
    "            possible_words = list(self.chain[current_word].keys())\n",
    "            weight = list(self.chain[current_word].values())\n",
    "            if possible_words == []:\n",
    "                break\n",
    "                #possible_words = list(self.chain.keys())\n",
    "                #weight = [1] * len(possible_words)\n",
    "            current_word = choices(possible_words, weight)[0]\n",
    "        print(text)\n",
    "            \n",
    "\n",
    "        return(current_word)"
   ]
  },
  {
   "cell_type": "code",
   "execution_count": 16,
   "id": "dfa5af93-7328-493e-acc8-e1dc070b1e00",
   "metadata": {},
   "outputs": [],
   "source": [
    "# get text from moby_dick.html\n",
    "\n",
    "from bs4 import BeautifulSoup\n",
    "\n",
    "with open(\"moby_dick.html\", \"r\") as f:\n",
    "    html_page = f\n",
    "    soup = BeautifulSoup(html_page, \"html.parser\")\n",
    "\n",
    "html_text = soup.get_text().replace(\"  \", \"\")"
   ]
  },
  {
   "cell_type": "code",
   "execution_count": 17,
   "id": "eaa49d12-e760-40cb-a100-7892b0f08d46",
   "metadata": {},
   "outputs": [
    {
     "name": "stdout",
     "output_type": "stream",
     "text": [
      "downward gazing down into the captain is the monster directly behind her, borrowed from their place; therefore, as well authenticated ones now,” muttered I, “which way for the point of\n",
      "that Hogarthian monster just brought to each side of his\n",
      "cabin, Ahab after his\n",
      "predecessors.\n",
      "\n",
      "\n",
      "But the face of a certain semi-visible\n",
      "steam, while Stubb then live eel in one hand, as he\n",
      "steps on the part is masoned in. He piled centuries ago by a straight before with the Indian, to convey a sea-fight, sharks\n",
      "will be carried on one reasonable retreat from its broad genera, that\n",
      "I would be not understand the\n",
      "whole line of powder-casks heaped \n",
      "up\n"
     ]
    }
   ],
   "source": [
    "markov = MarkovChain(html_text)\n",
    "markov.generate_chain()\n",
    "print(markov.generate_text(100))"
   ]
  },
  {
   "cell_type": "code",
   "execution_count": null,
   "id": "c90cad9a-58af-492a-872e-6e75bdcd9eff",
   "metadata": {},
   "outputs": [],
   "source": []
  }
 ],
 "metadata": {
  "kernelspec": {
   "display_name": "Python 3",
   "language": "python",
   "name": "python3"
  },
  "language_info": {
   "codemirror_mode": {
    "name": "ipython",
    "version": 3
   },
   "file_extension": ".py",
   "mimetype": "text/x-python",
   "name": "python",
   "nbconvert_exporter": "python",
   "pygments_lexer": "ipython3",
   "version": "3.8.8"
  }
 },
 "nbformat": 4,
 "nbformat_minor": 5
}
